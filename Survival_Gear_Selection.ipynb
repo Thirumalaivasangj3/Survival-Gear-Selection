{
  "nbformat": 4,
  "nbformat_minor": 0,
  "metadata": {
    "colab": {
      "provenance": []
    },
    "kernelspec": {
      "name": "python3",
      "display_name": "Python 3"
    },
    "language_info": {
      "name": "python"
    }
  },
  "cells": [
    {
      "cell_type": "code",
      "source": [
        "import random\n",
        "import pandas as pd\n",
        "\n",
        "# Store Inventory: List of items available in the post-apocalyptic world\n",
        "items = [\n",
        "    {\"name\": \"Baseball Bat\", \"weight\": 2, \"cost\": 150, \"useful\": True},\n",
        "    {\"name\": \"Rusty Machete\", \"weight\": 1.5, \"cost\": 200, \"useful\": True},\n",
        "    {\"name\": \"Handgun + 6 Bullets\", \"weight\": 3, \"cost\": 500, \"useful\": True},\n",
        "    {\"name\": \"Backpack [Increases Carry Limit]\", \"weight\": 1, \"cost\": 100, \"useful\": True},\n",
        "    {\"name\": \"First Aid Kit\", \"weight\": 2, \"cost\": 250, \"useful\": True},\n",
        "    {\"name\": \"Canned Food\", \"weight\": 1, \"cost\": 50, \"useful\": True},\n",
        "    {\"name\": \"Water Bottle\", \"weight\": 1.5, \"cost\": 75, \"useful\": True},\n",
        "    {\"name\": \"Flashlight\", \"weight\": 0.5, \"cost\": 80, \"useful\": True},\n",
        "    {\"name\": \"Lighter\", \"weight\": 0.1, \"cost\": 20, \"useful\": True},\n",
        "    {\"name\": \"Rope\", \"weight\": 2, \"cost\": 120, \"useful\": True},\n",
        "    {\"name\": \"Old Teddy Bear\", \"weight\": 0.5, \"cost\": 10, \"useful\": False},\n",
        "    {\"name\": \"Comic Book\", \"weight\": 0.2, \"cost\": 25, \"useful\": False},\n",
        "    {\"name\": \"Broken Watch\", \"weight\": 0.3, \"cost\": 30, \"useful\": False},\n",
        "    {\"name\": \"Plastic Toy Gun\", \"weight\": 0.4, \"cost\": 15, \"useful\": False},\n",
        "]\n",
        "\n",
        "# Convert items list to DataFrame for better visualization\n",
        "items_df = pd.DataFrame(items)\n",
        "\n",
        "# Display available items in a readable format\n",
        "print(\"==== Zombie Apocalypse Store ====\")\n",
        "print(items_df.to_string(index=False))\n",
        "\n",
        "# Starting money and inventory weight limit\n",
        "starting_money = 900\n",
        "inventory_limit = 15  # Maximum weight a player can carry\n",
        "\n",
        "# Auto-select items for the best survival strategy\n",
        "selected_items = [\n",
        "    {\"name\": \"Rusty Machete\", \"weight\": 1.5, \"cost\": 200},\n",
        "    {\"name\": \"Handgun + 6 Bullets\", \"weight\": 3, \"cost\": 500},\n",
        "    {\"name\": \"Backpack\", \"weight\": 1, \"cost\": 100},\n",
        "    {\"name\": \"First Aid Kit\", \"weight\": 2, \"cost\": 250},\n",
        "]\n",
        "\n",
        "# Calculate total weight and remaining money\n",
        "total_weight = sum(item[\"weight\"] for item in selected_items)\n",
        "remaining_money = starting_money - sum(item[\"cost\"] for item in selected_items)\n",
        "\n",
        "# Display the selected inventory\n",
        "print(\"\\n==== Selected Inventory ====\")\n",
        "for item in selected_items:\n",
        "    print(f\"- {item['name']} ({item['weight']}kg) - {item['cost']} 💎\")\n",
        "\n",
        "# Display summary\n",
        "print(f\"\\nTotal weight: {total_weight}/{inventory_limit}kg\")\n",
        "print(f\"Remaining money: {remaining_money} 💎\")\n"
      ],
      "metadata": {
        "colab": {
          "base_uri": "https://localhost:8080/"
        },
        "id": "yotAHUukd2wf",
        "outputId": "61dd3262-24e2-4308-b6dd-44b787a094cd"
      },
      "execution_count": 7,
      "outputs": [
        {
          "output_type": "stream",
          "name": "stdout",
          "text": [
            "==== Zombie Apocalypse Store ====\n",
            "                            name  weight  cost  useful\n",
            "                    Baseball Bat     2.0   150    True\n",
            "                   Rusty Machete     1.5   200    True\n",
            "             Handgun + 6 Bullets     3.0   500    True\n",
            "Backpack [Increases Carry Limit]     1.0   100    True\n",
            "                   First Aid Kit     2.0   250    True\n",
            "                     Canned Food     1.0    50    True\n",
            "                    Water Bottle     1.5    75    True\n",
            "                      Flashlight     0.5    80    True\n",
            "                         Lighter     0.1    20    True\n",
            "                            Rope     2.0   120    True\n",
            "                  Old Teddy Bear     0.5    10   False\n",
            "                      Comic Book     0.2    25   False\n",
            "                    Broken Watch     0.3    30   False\n",
            "                 Plastic Toy Gun     0.4    15   False\n",
            "\n",
            "==== Selected Inventory ====\n",
            "- Rusty Machete (1.5kg) - 200 💎\n",
            "- Handgun + 6 Bullets (3kg) - 500 💎\n",
            "- Backpack (1kg) - 100 💎\n",
            "- First Aid Kit (2kg) - 250 💎\n",
            "\n",
            "Total weight: 7.5/15kg\n",
            "Remaining money: -150 💎\n"
          ]
        }
      ]
    }
  ]
}